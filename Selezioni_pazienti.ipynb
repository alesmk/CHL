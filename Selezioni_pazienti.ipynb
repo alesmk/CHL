{
 "cells": [
  {
   "cell_type": "markdown",
   "metadata": {},
   "source": [
    "Over sampling"
   ]
  },
  {
   "cell_type": "code",
   "execution_count": 7,
   "metadata": {},
   "outputs": [
    {
     "data": {
      "text/plain": [
       "['lusc_tcga_pan_can_atlas_2018_cl',\n",
       " 'skcm_tcga_pan_can_atlas_2018',\n",
       " 'thca_tcga_pan_can_atlas_2018',\n",
       " 'coadread_tcga_pan_can_atlas']"
      ]
     },
     "execution_count": 7,
     "metadata": {},
     "output_type": "execute_result"
    }
   ],
   "source": [
    "import pandas as pd\n",
    "import  numpy as np\n",
    "\n",
    "#nomi dei dataset che vogliamo analizzare\n",
    "coadread='ds_coadread.txt'\n",
    "lusc='ds_lusc.txt'\n",
    "skcm='ds_skcm.txt'\n",
    "tcha='ds_thca.txt'\n",
    "\n",
    "# selezione dei pazienti \n",
    "pazienti_names='notizie cliniche.xlsx'\n",
    "\n",
    "\n",
    "#leggo il foglio exel riguardante i pazienti\n",
    "dataset_coad= pd.read_csv(coadread,sep='\\t')\n",
    "dataset_lusc= pd.read_csv(lusc,sep='\\t')\n",
    "dataset_skcm= pd.read_csv(skcm,sep='\\t')\n",
    "dataset_tcha= pd.read_csv(tcha,sep='\\t')\n",
    "\n",
    "\n",
    "#leggo il file exel\n",
    "#notizie_cliniche=pd.read_excel(pazienti_names)\n",
    "\n",
    "#print(notizie_cliniche.sheet_names)\n",
    "\n",
    "xls = pd.ExcelFile(pazienti_names)\n",
    "\n",
    "# Now you can list all sheets in the file\n",
    "xls.sheet_names\n",
    "# ['house', 'house_extra', ...]\n"
   ]
  },
  {
   "cell_type": "code",
   "execution_count": 8,
   "metadata": {},
   "outputs": [],
   "source": [
    "#seleziono i pazienti\n",
    "pazienti_coad='coadread_tcga_pan_can_atlas'\n",
    "pazienti_lusc='lusc_tcga_pan_can_atlas_2018_cl'\n",
    "pazienti_skcm='skcm_tcga_pan_can_atlas_2018'\n",
    "pazienti_tcha='thca_tcga_pan_can_atlas_2018'\n",
    "\n",
    "\n",
    "\n",
    "#vado a leggere il file exel riguardante i dati clinici dei pazienti\n",
    "notizie_cliniche_coad= pd.read_excel(pazienti_names, sheet_name=pazienti_coad)\n",
    "notizie_cliniche_lusc= pd.read_excel(pazienti_names, sheet_name=pazienti_lusc)\n",
    "notizie_cliniche_skcm= pd.read_excel(pazienti_names, sheet_name=pazienti_skcm)\n",
    "notizie_cliniche_tcha= pd.read_excel(pazienti_names, sheet_name=pazienti_tcha)"
   ]
  },
  {
   "cell_type": "markdown",
   "metadata": {},
   "source": [
    "Vado adesso a prendere le colonne di cui abbiamo bisogno quindi i nomi dei pazienti"
   ]
  },
  {
   "cell_type": "code",
   "execution_count": 10,
   "metadata": {},
   "outputs": [],
   "source": [
    "Id_coad=notizie_cliniche_coad['Sample ID']\n",
    "Id_lusc=notizie_cliniche_lusc['Sample ID']\n",
    "Id_skcm=notizie_cliniche_skcm['Sample ID']\n",
    "Id_tcha=notizie_cliniche_tcha['Sample ID']"
   ]
  },
  {
   "cell_type": "markdown",
   "metadata": {},
   "source": [
    "Adesso vado a selezionare i valori di quello che ho visogno  'Entrez_Gene_Id'"
   ]
  },
  {
   "cell_type": "code",
   "execution_count": 20,
   "metadata": {},
   "outputs": [],
   "source": [
    "Id_coad=pd.concat([pd.Series(['Entrez_Gene_Id']), Id_coad])\n",
    "\n",
    "new_coadread=dataset_coad.loc[:,Id_coad]\n",
    "\n",
    "new_coadread.to_csv(\"new_coadread_dataset.csv\", index=False)\n"
   ]
  },
  {
   "cell_type": "markdown",
   "metadata": {},
   "source": [
    "D"
   ]
  }
 ],
 "metadata": {
  "kernelspec": {
   "display_name": "Python 3",
   "language": "python",
   "name": "python3"
  },
  "language_info": {
   "codemirror_mode": {
    "name": "ipython",
    "version": 3
   },
   "file_extension": ".py",
   "mimetype": "text/x-python",
   "name": "python",
   "nbconvert_exporter": "python",
   "pygments_lexer": "ipython3",
   "version": "3.11.1"
  }
 },
 "nbformat": 4,
 "nbformat_minor": 2
}
